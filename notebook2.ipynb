{
 "cells": [
  {
   "cell_type": "markdown",
   "id": "77a80776-4579-4331-80c5-330d9ad04470",
   "metadata": {},
   "source": [
    "**Asignatura**: Extensiones de Machine Learning, 2024/2025\n",
    "\n",
    "**Alumnos**:<br>\n",
    "- Salvador de Haro Orenes (salvadorde.haroo@um.es)\n",
    "- Jose María Belmonte Martínez (josemaria.belmontem@um.es)\n",
    "- Miguel Vidal García (miguel.vidalg@um.es)\n",
    "\n",
    "**Máster de Inteligencia Artificial**\n",
    "\n",
    "**Facultad de Informática**\n",
    "\n",
    "![](https://www.um.es/image/layout_set_logo?img_id=175281&t=1726728636242)\n",
    "\n",
    "**Universidad de Murcia**\n",
    "\n",
    "![](https://www.um.es/o/um-lr-principal-um-home-theme/images/logo-um.png)"
   ]
  },
  {
   "cell_type": "code",
   "execution_count": null,
   "id": "25bdd812-fcb6-4f8c-9d88-876927eb450a",
   "metadata": {},
   "outputs": [],
   "source": []
  }
 ],
 "metadata": {
  "kernelspec": {
   "display_name": "Python 3 (ipykernel)",
   "language": "python",
   "name": "python3"
  },
  "language_info": {
   "codemirror_mode": {
    "name": "ipython",
    "version": 3
   },
   "file_extension": ".py",
   "mimetype": "text/x-python",
   "name": "python",
   "nbconvert_exporter": "python",
   "pygments_lexer": "ipython3",
   "version": "3.10.12"
  }
 },
 "nbformat": 4,
 "nbformat_minor": 5
}
