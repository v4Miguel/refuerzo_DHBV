{
 "cells": [
  {
   "cell_type": "markdown",
   "id": "2882b612-ffe1-43cd-b6c9-78e3415dfe37",
   "metadata": {},
   "source": [
    "**Asignatura**: Extensiones de Machine Learning, 2024/2025\n",
    "\n",
    "**Alumnos**:<br>\n",
    "- Salvador de Haro Orenes (salvadorde.haroo@um.es)\n",
    "- Jose María Belmonte Martínez (josemaria.belmontem@um.es)\n",
    "- Miguel Vidal García (miguel.vidalg@um.es)\n",
    "\n",
    "**Máster de Inteligencia Artificial**\n",
    "\n",
    "**Facultad de Informática**\n",
    "\n",
    "![](https://www.um.es/image/layout_set_logo?img_id=175281&t=1726728636242)\n",
    "\n",
    "**Universidad de Murcia**\n",
    "\n",
    "![](https://www.um.es/o/um-lr-principal-um-home-theme/images/logo-um.png)"
   ]
  },
  {
   "cell_type": "markdown",
   "id": "bb18cc18-7c9a-47e9-8f14-94bd84971c59",
   "metadata": {},
   "source": [
    "# 🎰 Proyecto: Bandido Multi-brazo (Multi-Armed Bandit)\n",
    "Bienvenido a este notebook principal del proyecto **Bandido Multi-brazo**.\n",
    "\n",
    "📌 **¿Cómo usar este notebook?**\n",
    "1. Haz clic en el siguiente enlace para abrir este proyecto en Google Colab:\n",
    "   [![Abrir en Colab](https://colab.research.google.com/assets/colab-badge.svg)](https://colab.research.google.com/github/salvadeharo10/k_brazos_DHBV/blob/main/main.ipynb)\n",
    "2. Ejecuta todas las celdas (`Entorno de ejecución > Ejecutar todas`).\n",
    "3. Usa los enlaces dentro del notebook para navegar entre las diferentes secciones del proyecto."
   ]
  },
  {
   "cell_type": "markdown",
   "id": "1edc4360-5d78-4269-a1d5-5bf0a58d2dac",
   "metadata": {},
   "source": [
    "# Clonar el Repositorio GitHub"
   ]
  },
  {
   "cell_type": "code",
   "execution_count": null,
   "id": "d12e718e-d503-4a31-af6d-4ceccb8e15ab",
   "metadata": {},
   "outputs": [],
   "source": [
    "# Clonar el repositorio en Google Colab\n",
    "!git clone https://github.com/salvadeharo10/k_brazos_DHBV.git\n",
    "%cd k_brazos_DHBV\n",
    "\n",
    "# Confirmar clonación exitosa\n",
    "print(\"✅ Repositorio clonado con éxito.\")"
   ]
  },
  {
   "cell_type": "markdown",
   "id": "dc388b2c-93c9-41ae-a84e-916f40583ab5",
   "metadata": {},
   "source": [
    "# Instalación de dependencias"
   ]
  },
  {
   "cell_type": "code",
   "execution_count": null,
   "id": "90286d92-790c-4a0a-8ef9-15a83ab50d32",
   "metadata": {},
   "outputs": [],
   "source": [
    "!pip install -r requirements.txt"
   ]
  },
  {
   "cell_type": "markdown",
   "id": "063efed7-1d7d-4782-85c5-0adbc97100e1",
   "metadata": {},
   "source": [
    "# Configurar la Semilla de Reproducibilidad"
   ]
  },
  {
   "cell_type": "code",
   "execution_count": null,
   "id": "3aae4037-6f9f-49c5-941e-f979c4207133",
   "metadata": {},
   "outputs": [],
   "source": [
    "import numpy as np\n",
    "import torch\n",
    "import random\n",
    "\n",
    "# Semilla global para asegurarnos de que los experimentos sean reproducibles\n",
    "SEED = 1234\n",
    "np.random.seed(SEED)\n",
    "random.seed(SEED)\n",
    "torch.manual_seed(SEED)\n",
    "\n",
    "print(\"🔢 Semilla de reproducibilidad configurada.\")"
   ]
  },
  {
   "cell_type": "markdown",
   "id": "42844787-7e33-4c24-8a3d-3ffe48250710",
   "metadata": {},
   "source": [
    "# Cargar y acceder a otros notebooks"
   ]
  },
  {
   "cell_type": "markdown",
   "id": "9e59943a-7b6b-45c5-a487-777c8bec54b5",
   "metadata": {},
   "source": [
    "## Acceso a los Notebooks del Proyecto\r\n",
    "- [📘 Notebook 1: Introducción al Bandido Multi-brazo](https://colab.research.google.com/github/salvadeharo10/k_brazos_DHBV/blob/main/notebook1.ipynb)\r\n",
    "- [📘 Notebook 2: Estrategia Epsilon-Greedy](https://colab.research.google.com/github/salvadeharo10/k_brazos_DHBV/blob/main/notebook2.ipynb)\r\n",
    "- [📘 Otros estudios y análisis](https://colab.research.google.com/github/autores/k_brazos_DHBV/blob/main/etc.ipynb)\r\n"
   ]
  },
  {
   "cell_type": "code",
   "execution_count": null,
   "id": "d7df7a45-8355-4f68-8407-27f08fc6088c",
   "metadata": {},
   "outputs": [],
   "source": []
  }
 ],
 "metadata": {
  "kernelspec": {
   "display_name": "Python 3 (ipykernel)",
   "language": "python",
   "name": "python3"
  },
  "language_info": {
   "codemirror_mode": {
    "name": "ipython",
    "version": 3
   },
   "file_extension": ".py",
   "mimetype": "text/x-python",
   "name": "python",
   "nbconvert_exporter": "python",
   "pygments_lexer": "ipython3",
   "version": "3.10.12"
  }
 },
 "nbformat": 4,
 "nbformat_minor": 5
}
