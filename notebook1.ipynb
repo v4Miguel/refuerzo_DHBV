{
 "cells": [
  {
   "cell_type": "markdown",
   "id": "db84e4b9-0ab0-41f4-8fef-c2c66272d680",
   "metadata": {},
   "source": [
    "**Asignatura**: Extensiones de Machine Learning, 2024/2025\n",
    "\n",
    "**Alumnos**:<br>\n",
    "- Salvador de Haro Orenes (salvadorde.haroo@um.es)\n",
    "- Jose María Belmonte Martínez (josemaria.belmontem@um.es)\n",
    "- Miguel Vidal García (miguel.vidalg@um.es)\n",
    "\n",
    "**Máster de Inteligencia Artificial**\n",
    "\n",
    "**Facultad de Informática**\n",
    "\n",
    "![](https://www.um.es/image/layout_set_logo?img_id=175281&t=1726728636242)\n",
    "\n",
    "**Universidad de Murcia**\n",
    "\n",
    "![](https://www.um.es/o/um-lr-principal-um-home-theme/images/logo-um.png)"
   ]
  },
  {
   "cell_type": "code",
   "execution_count": null,
   "id": "61aa5dcc-9615-4d0c-9905-a8f62cfec341",
   "metadata": {},
   "outputs": [],
   "source": []
  }
 ],
 "metadata": {
  "kernelspec": {
   "display_name": "Python 3 (ipykernel)",
   "language": "python",
   "name": "python3"
  },
  "language_info": {
   "codemirror_mode": {
    "name": "ipython",
    "version": 3
   },
   "file_extension": ".py",
   "mimetype": "text/x-python",
   "name": "python",
   "nbconvert_exporter": "python",
   "pygments_lexer": "ipython3",
   "version": "3.10.12"
  }
 },
 "nbformat": 4,
 "nbformat_minor": 5
}
